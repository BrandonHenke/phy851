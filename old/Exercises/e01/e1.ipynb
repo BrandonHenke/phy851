{
 "cells": [
  {
   "cell_type": "code",
   "execution_count": 57,
   "id": "desperate-lightweight",
   "metadata": {},
   "outputs": [],
   "source": [
    "import numpy as np"
   ]
  },
  {
   "cell_type": "code",
   "execution_count": 58,
   "id": "automated-elements",
   "metadata": {},
   "outputs": [
    {
     "name": "stdout",
     "output_type": "stream",
     "text": [
      "[[ 1.+0.j  0.+2.j  3.+0.j]\n",
      " [-0.-2.j  2.+0.j -0.-2.j]\n",
      " [ 3.+0.j  0.+2.j  3.+0.j]]\n",
      "[[-0.5+0.00000000e+00j  0. +1.48029737e-16j  0.5+0.00000000e+00j]\n",
      " [ 0. +0.00000000e+00j  1.5+0.00000000e+00j  0. +1.00000000e+00j]\n",
      " [ 0.5+0.00000000e+00j  0. -1.00000000e+00j  0.5+0.00000000e+00j]]\n",
      "[[1.00000000e+00+0.0000000e+00j 0.00000000e+00-4.4408921e-16j\n",
      "  2.22044605e-16+0.0000000e+00j]\n",
      " [0.00000000e+00+0.0000000e+00j 1.00000000e+00+0.0000000e+00j\n",
      "  0.00000000e+00+0.0000000e+00j]\n",
      " [0.00000000e+00+0.0000000e+00j 0.00000000e+00+0.0000000e+00j\n",
      "  1.00000000e+00+0.0000000e+00j]]\n"
     ]
    }
   ],
   "source": [
    "H = np.array([[1,2j,3],[-2j,2,-2j],[3,2j,3]])\n",
    "H_inv = np.linalg.inv(H)\n",
    "print(H)\n",
    "print(H_inv)\n",
    "print(H@H_inv)"
   ]
  },
  {
   "cell_type": "code",
   "execution_count": 59,
   "id": "great-devil",
   "metadata": {},
   "outputs": [
    {
     "name": "stdout",
     "output_type": "stream",
     "text": [
      "[-1.26244658  0.46620643  6.79624015]\n",
      "[[ 8.43263310e-01-0.00000000e+00j -1.01927702e-01+0.00000000e+00j\n",
      "  -5.27747794e-01+0.00000000e+00j]\n",
      " [ 1.11022302e-16+2.14935276e-01j  1.27328703e-15-8.35992097e-01j\n",
      "   0.00000000e+00+5.04896069e-01j]\n",
      " [-4.92655881e-01-9.02056208e-17j -5.39191948e-01-8.88178420e-16j\n",
      "  -6.83053604e-01+6.24500451e-17j]]\n",
      "-1.262446584584146\n"
     ]
    }
   ],
   "source": [
    "w,v = np.linalg.eigh(H)\n",
    "print(w)\n",
    "print(v)\n",
    "print(min(w))"
   ]
  },
  {
   "cell_type": "code",
   "execution_count": 60,
   "id": "conceptual-waters",
   "metadata": {},
   "outputs": [
    {
     "name": "stdout",
     "output_type": "stream",
     "text": [
      "True\n",
      "True\n",
      "True\n"
     ]
    }
   ],
   "source": [
    "for m in range(len(w)):\n",
    "    print(np.linalg.norm(H@v[:,m]-w[m]*v[:,m])<10e-4)"
   ]
  },
  {
   "cell_type": "code",
   "execution_count": 61,
   "id": "traditional-prerequisite",
   "metadata": {},
   "outputs": [
    {
     "name": "stdout",
     "output_type": "stream",
     "text": [
      "[[-1.26245-0.j -0.     -0.j  0.     +0.j]\n",
      " [-0.     +0.j  0.46621+0.j  0.     +0.j]\n",
      " [-0.     +0.j  0.     -0.j  6.79624+0.j]]\n"
     ]
    }
   ],
   "source": [
    "print(np.around(np.linalg.inv(v)@H@v,5))"
   ]
  },
  {
   "cell_type": "code",
   "execution_count": 62,
   "id": "liquid-crowd",
   "metadata": {},
   "outputs": [
    {
     "name": "stdout",
     "output_type": "stream",
     "text": [
      "-21.262446584584143\n"
     ]
    }
   ],
   "source": [
    "B = 20\n",
    "M = (H-B*np.identity(3))\n",
    "W,V = np.linalg.eigh(M)\n",
    "print(min(W))"
   ]
  },
  {
   "cell_type": "code",
   "execution_count": 81,
   "id": "forced-roots",
   "metadata": {},
   "outputs": [],
   "source": [
    "u = np.ones((3,1))\n",
    "N = 1000\n",
    "for m in range(N):\n",
    "    u = M@u\n",
    "    u = u/np.linalg.norm(u)"
   ]
  },
  {
   "cell_type": "code",
   "execution_count": 82,
   "id": "demanding-fisher",
   "metadata": {},
   "outputs": [
    {
     "name": "stdout",
     "output_type": "stream",
     "text": [
      "0.0\n"
     ]
    }
   ],
   "source": [
    "print(np.around(np.linalg.norm(H@u-min(w)*u),5))"
   ]
  }
 ],
 "metadata": {
  "kernelspec": {
   "display_name": "Python 3",
   "language": "python",
   "name": "python3"
  },
  "language_info": {
   "codemirror_mode": {
    "name": "ipython",
    "version": 3
   },
   "file_extension": ".py",
   "mimetype": "text/x-python",
   "name": "python",
   "nbconvert_exporter": "python",
   "pygments_lexer": "ipython3",
   "version": "3.9.6"
  }
 },
 "nbformat": 4,
 "nbformat_minor": 5
}
